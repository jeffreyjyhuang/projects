{
 "cells": [
  {
   "cell_type": "markdown",
   "metadata": {
    "toc": true
   },
   "source": [
    "<h1>Table of Contents<span class=\"tocSkip\"></span></h1>\n",
    "<div class=\"toc\"><ul class=\"toc-item\"><li><span><a href=\"#Linear-Regression\" data-toc-modified-id=\"Linear-Regression-1\">Linear Regression</a></span><ul class=\"toc-item\"><li><span><a href=\"#Closed-Form-Solution:-The-Normal-Equation\" data-toc-modified-id=\"Closed-Form-Solution:-The-Normal-Equation-1.1\">Closed-Form Solution: The Normal Equation</a></span></li><li><span><a href=\"#Gradient-Descent\" data-toc-modified-id=\"Gradient-Descent-1.2\">Gradient Descent</a></span></li><li><span><a href=\"#Computational-Complexity\" data-toc-modified-id=\"Computational-Complexity-1.3\">Computational Complexity</a></span></li></ul></li></ul></div>"
   ]
  },
  {
   "cell_type": "markdown",
   "metadata": {},
   "source": [
    "# Linear Regression\n",
    "\n",
    "Linear Regression is one of the simplest models to start with, because it's the one that we learn about without even diving into data science. The classic \"$y = mx + b$\" from pre-calculus is ingrained in our head, and it serves as the foundation of our knowledge of linear systems. Applying this knowledge to Linear Regression in machine learning is not a big leap. However, it means that we're working with a higher dimension of data, so this means that we need to talk matrices. \n",
    "\n",
    "A Linear Regression model chooses the model parameters that minimize the cost functions over the training set. However, there are two methods to minimize this cost function. \n",
    "\n",
    "- *closed-form equation*: an equation (the normal equation) that directly computes the model parameters that minimizes the cost function over the training set.\n",
    "\n",
    "- *gradient-descent optimization*: an algorithm that gradually tweaks the model parameters to minimize the cost function over the training set.\n",
    "\n",
    "We might think to ourselves - between an equation that I need to plug numbers into, and building an algorithm that needs to constantly update itself until convergence, why not choose the first one? We'll first take a look at linear regression and the two ways to minimize the cost function. Then, we'll compare and see why the latter method is an industry standard for Linear Regression Models.\n",
    "\n",
    "**Linear Regression Model**\n",
    "\n",
    "$\\hat{y} = \\theta_0 + \\theta_1x_1 + \\theta_2x_2+ \\cdots + \\theta_nx_n$\n",
    "\n",
    "- $\\hat{y}$ is the predicted value\n",
    "- $n$ are the number of features\n",
    "- $x_i$ is the $i$th feature value\n",
    "- $\\theta_0$ is the intercept (or the bias term)\n",
    "- $\\theta_j$ is the $j$th model parameter. \n",
    "\n",
    "**Linear Regression Model in Vectorized Form**\n",
    "\n",
    "$\\hat{y} = h_{\\boldsymbol{\\theta}}(\\boldsymbol{x}) = \\boldsymbol{\\theta} \\cdot \\boldsymbol{x}$\n",
    "\n",
    "- $\\boldsymbol{\\theta}$ is the model's parameter vector, where the first one is the intercept, and the other ones are feature weights.\n",
    "- $\\boldsymbol{x}$ is the feature vector of all the $x$'s, with the first one always equaling to one (the one multiplying the intercept, $\\theta_0x_0$)\n",
    "- $\\boldsymbol{\\theta} \\cdot \\boldsymbol{x}$ is the dot product, which eventually equates to the linear model in non-vectorized form. Try it out yourself!\n",
    "- $h_{\\theta}$ is the hypothesis function, with the model parameters as $\\theta$.\n",
    "\n",
    "Now that we have our model, we need a way to measure how our model will do. For example, if we want to minimize the error of a model, then we need to define what an error is! A typical performance measure for regression problems is the Mean Square Error (MSE).\n",
    "\n",
    "**MSE Cost Function for a Linear Regression Model**\n",
    "\n",
    "$\\text{MSE}(\\boldsymbol(X),h_\\theta) = \\frac{1}{m}\\sum_{i=1}^m\\big(\\boldsymbol\\theta^T \\boldsymbol{x}^{(i)}-y^{(i)}\\big)^2$\n",
    "\n",
    "- $m$ is the number of datapoints the MSE is evaluating. \n",
    "- $h$ is the prediction function (represents the hypothesis). This is what the model will predict. For example, $h(x^{(1)})$ might predict as such: $\\hat{y}^{(1)} = h(x^{(1)}) = 500$. (Note the hat on the $y$). This also means that if we want to find the prediction error, then we subtract as such: $\\hat{y}^{(1)} - y^{(1)}$.\n",
    "\n",
    "Our goal is to find a value of $\\boldsymbol{\\theta}$ that can minimize the cost function."
   ]
  },
  {
   "cell_type": "markdown",
   "metadata": {},
   "source": [
    "## Closed-Form Solution: The Normal Equation\n",
    "\n",
    "There's a closed form solution for this problem. In other words, there exists an equation that can directly solve this once you plug the numbers in.\n",
    "\n",
    "**The Normal Equation**\n",
    "\n",
    "$\\boldsymbol{\\hat{\\theta}} = (\\boldsymbol{X^TX})^{-1} \\boldsymbol{X}^T\\boldsymbol{X}$\n",
    "- $\\boldsymbol{\\hat{\\theta}}$ is the value of $\\theta$ that minimizes the cost function\n",
    "- $y$ is the vector of target values.\n",
    "\n",
    "Here's the proof that is derived from the MSE and the hypothesis function:"
   ]
  },
  {
   "cell_type": "code",
   "execution_count": 1,
   "metadata": {},
   "outputs": [],
   "source": [
    "# import notability proof #"
   ]
  },
  {
   "cell_type": "markdown",
   "metadata": {},
   "source": [
    "Let's try implementing this from scratch. First, we need to generate some linear data."
   ]
  },
  {
   "cell_type": "code",
   "execution_count": 2,
   "metadata": {},
   "outputs": [],
   "source": [
    "import numpy as np\n",
    "\n",
    "X = 2 * np.random.rand(100,1)\n",
    "y = 4 + 3 * X + np.random.randn(100,1)"
   ]
  },
  {
   "cell_type": "code",
   "execution_count": 8,
   "metadata": {},
   "outputs": [
    {
     "data": {
      "image/png": "[encoded data removed]",
      "text/plain": [
       "<Figure size 720x504 with 1 Axes>"
      ]
     },
     "metadata": {
      "needs_background": "light"
     },
     "output_type": "display_data"
    }
   ],
   "source": [
    "import matplotlib.pyplot as plt\n",
    "%matplotlib inline\n",
    "\n",
    "plt.figure(figsize = (10,7))\n",
    "\n",
    "plt.scatter(X,y, c = '#ef233c')\n",
    "plt.title(\"Randomly Generated Data\")\n",
    "plt.axis([0,2,0,15])\n",
    "plt.xlabel(\"X1\")\n",
    "plt.ylabel(\"y\")\n",
    "\n",
    "plt.show()"
   ]
  },
  {
   "cell_type": "markdown",
   "metadata": {},
   "source": [
    "From this, let us try to compute $\\theta$ from the normal equation. "
   ]
  },
  {
   "cell_type": "code",
   "execution_count": 4,
   "metadata": {},
   "outputs": [],
   "source": [
    "X_b = np.c_[np.ones((100,1)), X] # creating a matrix full of 1's \n",
    "theta_best = np.linalg.inv(X_b.T.dot(X_b)).dot(X_b.T).dot(y) # theta = (X^TX)^-1 X^T y"
   ]
  },
  {
   "cell_type": "markdown",
   "metadata": {},
   "source": [
    "If we take a look at how we created the data, we used the following equation:\n",
    "\n",
    "$y = 4 + 3x_1 + \\epsilon$.\n",
    "\n",
    "Let's see what theta we got:"
   ]
  },
  {
   "cell_type": "code",
   "execution_count": 5,
   "metadata": {},
   "outputs": [
    {
     "data": {
      "text/plain": [
       "array([[4.00194084],\n",
       "       [2.96902447]])"
      ]
     },
     "execution_count": 5,
     "metadata": {},
     "output_type": "execute_result"
    }
   ],
   "source": [
    "theta_best"
   ]
  },
  {
   "cell_type": "markdown",
   "metadata": {},
   "source": [
    "This isn't so bad - we expected values of $\\theta_0 = 4$ and $\\theta_1 = 3$. The variance comes from the noise, which is completely expected. Now, lets try making predictions with `theta_best`"
   ]
  },
  {
   "cell_type": "code",
   "execution_count": 6,
   "metadata": {},
   "outputs": [
    {
     "data": {
      "text/plain": [
       "array([[4.00194084],\n",
       "       [9.93998979]])"
      ]
     },
     "execution_count": 6,
     "metadata": {},
     "output_type": "execute_result"
    }
   ],
   "source": [
    "X_new = np.array([[0],[2]])\n",
    "X_new_b = np.c_[np.ones((2,1)), X_new] # adding intercept =1 to each instance\n",
    "y_predict = X_new_b.dot(theta_best)\n",
    "y_predict"
   ]
  },
  {
   "cell_type": "code",
   "execution_count": 7,
   "metadata": {},
   "outputs": [
    {
     "data": {
      "image/png": "[encoded data removed]",
      "text/plain": [
       "<Figure size 720x504 with 1 Axes>"
      ]
     },
     "metadata": {
      "needs_background": "light"
     },
     "output_type": "display_data"
    }
   ],
   "source": [
    "plt.figure(figsize = (10,7))\n",
    "\n",
    "plt.plot(X_new, y_predict) # prediction line\n",
    "plt.scatter(X, y, c = '#ef233c') # data points\n",
    "plt.axis([0,2,0,15])\n",
    "plt.xlabel(\"X1\")\n",
    "plt.ylabel(\"y\")\n",
    "plt.title(\"Linear Regression Model Predictions\")\n",
    "\n",
    "plt.show()"
   ]
  },
  {
   "cell_type": "markdown",
   "metadata": {},
   "source": [
    "This looks pretty good. However, we probably don't want to manually create a Linear Regression model every time, and Scikit-Learn has us covered:"
   ]
  },
  {
   "cell_type": "code",
   "execution_count": 9,
   "metadata": {},
   "outputs": [
    {
     "data": {
      "text/plain": [
       "(array([4.00194084]),\n",
       " array([[2.96902447]]),\n",
       " array([[4.00194084],\n",
       "        [9.93998979]]))"
      ]
     },
     "execution_count": 9,
     "metadata": {},
     "output_type": "execute_result"
    }
   ],
   "source": [
    "from sklearn.linear_model import LinearRegression\n",
    "lin_reg = LinearRegression()\n",
    "lin_reg.fit(X,y)\n",
    "lin_reg.intercept_, lin_reg.coef_, lin_reg.predict(X_new)"
   ]
  },
  {
   "cell_type": "markdown",
   "metadata": {},
   "source": [
    "We pretty much got the same results. However, this model is implemented a bit differently. We won't get into it much, but the Normal Equation is faulty in edge cases. For example, when the matrix $X^TX$ is not invertible, or if features are redundant, things get messy. Let's take a look at gradient descent:"
   ]
  },
  {
   "cell_type": "markdown",
   "metadata": {},
   "source": [
    "## Gradient Descent"
   ]
  },
  {
   "cell_type": "code",
   "execution_count": null,
   "metadata": {},
   "outputs": [],
   "source": []
  },
  {
   "cell_type": "code",
   "execution_count": null,
   "metadata": {},
   "outputs": [],
   "source": []
  },
  {
   "cell_type": "code",
   "execution_count": null,
   "metadata": {},
   "outputs": [],
   "source": []
  },
  {
   "cell_type": "code",
   "execution_count": null,
   "metadata": {},
   "outputs": [],
   "source": []
  },
  {
   "cell_type": "markdown",
   "metadata": {},
   "source": [
    "## Computational Complexity"
   ]
  },
  {
   "cell_type": "code",
   "execution_count": null,
   "metadata": {},
   "outputs": [],
   "source": []
  },
  {
   "cell_type": "code",
   "execution_count": null,
   "metadata": {},
   "outputs": [],
   "source": []
  },
  {
   "cell_type": "code",
   "execution_count": null,
   "metadata": {},
   "outputs": [],
   "source": []
  },
  {
   "cell_type": "code",
   "execution_count": null,
   "metadata": {},
   "outputs": [],
   "source": []
  },
  {
   "cell_type": "code",
   "execution_count": null,
   "metadata": {},
   "outputs": [],
   "source": []
  },
  {
   "cell_type": "code",
   "execution_count": null,
   "metadata": {},
   "outputs": [],
   "source": []
  },
  {
   "cell_type": "code",
   "execution_count": null,
   "metadata": {},
   "outputs": [],
   "source": []
  },
  {
   "cell_type": "code",
   "execution_count": null,
   "metadata": {},
   "outputs": [],
   "source": []
  },
  {
   "cell_type": "code",
   "execution_count": null,
   "metadata": {},
   "outputs": [],
   "source": []
  },
  {
   "cell_type": "code",
   "execution_count": null,
   "metadata": {},
   "outputs": [],
   "source": []
  },
  {
   "cell_type": "code",
   "execution_count": null,
   "metadata": {},
   "outputs": [],
   "source": []
  },
  {
   "cell_type": "code",
   "execution_count": null,
   "metadata": {},
   "outputs": [],
   "source": []
  },
  {
   "cell_type": "code",
   "execution_count": null,
   "metadata": {},
   "outputs": [],
   "source": []
  },
  {
   "cell_type": "code",
   "execution_count": null,
   "metadata": {},
   "outputs": [],
   "source": []
  },
  {
   "cell_type": "code",
   "execution_count": null,
   "metadata": {},
   "outputs": [],
   "source": []
  },
  {
   "cell_type": "code",
   "execution_count": null,
   "metadata": {},
   "outputs": [],
   "source": []
  },
  {
   "cell_type": "code",
   "execution_count": null,
   "metadata": {},
   "outputs": [],
   "source": []
  },
  {
   "cell_type": "code",
   "execution_count": null,
   "metadata": {},
   "outputs": [],
   "source": []
  },
  {
   "cell_type": "code",
   "execution_count": null,
   "metadata": {},
   "outputs": [],
   "source": []
  },
  {
   "cell_type": "code",
   "execution_count": null,
   "metadata": {},
   "outputs": [],
   "source": []
  },
  {
   "cell_type": "code",
   "execution_count": null,
   "metadata": {},
   "outputs": [],
   "source": []
  },
  {
   "cell_type": "code",
   "execution_count": null,
   "metadata": {},
   "outputs": [],
   "source": []
  },
  {
   "cell_type": "code",
   "execution_count": null,
   "metadata": {},
   "outputs": [],
   "source": []
  },
  {
   "cell_type": "code",
   "execution_count": null,
   "metadata": {},
   "outputs": [],
   "source": []
  }
 ],
 "metadata": {
  "kernelspec": {
   "display_name": "jeffrey-huang",
   "language": "python",
   "name": "jeffrey-huang"
  },
  "language_info": {
   "codemirror_mode": {
    "name": "ipython",
    "version": 3
   },
   "file_extension": ".py",
   "mimetype": "text/x-python",
   "name": "python",
   "nbconvert_exporter": "python",
   "pygments_lexer": "ipython3",
   "version": "3.8.5"
  },
  "toc": {
   "base_numbering": 1,
   "nav_menu": {},
   "number_sections": false,
   "sideBar": true,
   "skip_h1_title": false,
   "title_cell": "Table of Contents",
   "title_sidebar": "Contents",
   "toc_cell": true,
   "toc_position": {},
   "toc_section_display": true,
   "toc_window_display": false
  },
  "varInspector": {
   "cols": {
    "lenName": 16,
    "lenType": 16,
    "lenVar": 40
   },
   "kernels_config": {
    "python": {
     "delete_cmd_postfix": "",
     "delete_cmd_prefix": "del ",
     "library": "var_list.py",
     "varRefreshCmd": "print(var_dic_list())"
    },
    "r": {
     "delete_cmd_postfix": ") ",
     "delete_cmd_prefix": "rm(",
     "library": "var_list.r",
     "varRefreshCmd": "cat(var_dic_list()) "
    }
   },
   "types_to_exclude": [
    "module",
    "function",
    "builtin_function_or_method",
    "instance",
    "_Feature"
   ],
   "window_display": false
  }
 },
 "nbformat": 4,
 "nbformat_minor": 4
}
